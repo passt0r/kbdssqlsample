{
    "metadata": {
        "kernelspec": {
            "name": "SQL",
            "display_name": "SQL",
            "language": "sql"
        },
        "language_info": {
            "name": "sql",
            "version": ""
        }
    },
    "nbformat_minor": 2,
    "nbformat": 4,
    "cells": [
        {
            "cell_type": "code",
            "source": [
                "CREATE LOGIN DmytroPasinchuk\n",
                "    WITH PASSWORD = '';  \n",
                "GO  "
            ],
            "metadata": {
                "azdata_cell_guid": "ff10873a-ea9b-4a49-ad22-f4e2cfd7f756",
                "tags": []
            },
            "outputs": [
                {
                    "output_type": "error",
                    "ename": "",
                    "evalue": "Msg 15025, Level 16, State 1, Line 1\nThe server principal 'DmytroPasinchuk' already exists.",
                    "traceback": []
                },
                {
                    "output_type": "display_data",
                    "data": {
                        "text/html": "Total execution time: 00:00:00.167"
                    },
                    "metadata": {}
                }
            ],
            "execution_count": 1
        },
        {
            "cell_type": "code",
            "source": [
                "CREATE USER DmytroPasinchuk FOR LOGIN DmytroPasinchuk;"
            ],
            "metadata": {
                "azdata_cell_guid": "7cceaaa1-7075-4323-84e7-d15a0625712a"
            },
            "outputs": [],
            "execution_count": null
        }
    ]
}