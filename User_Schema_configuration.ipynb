{
    "metadata": {
        "kernelspec": {
            "name": "SQL",
            "display_name": "SQL",
            "language": "sql"
        },
        "language_info": {
            "name": "sql",
            "version": ""
        }
    },
    "nbformat_minor": 2,
    "nbformat": 4,
    "cells": [
        {
            "cell_type": "code",
            "source": [
                "CREATE SCHEMA PasinchukSchema\n",
                "GO"
            ],
            "metadata": {
                "azdata_cell_guid": "db7679bb-94e2-4098-b655-1736303bc6a2"
            },
            "outputs": [],
            "execution_count": null
        }
    ]
}