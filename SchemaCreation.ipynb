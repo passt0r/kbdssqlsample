{
    "metadata": {
        "kernelspec": {
            "name": "SQL",
            "display_name": "SQL",
            "language": "sql"
        },
        "language_info": {
            "name": "sql",
            "version": ""
        }
    },
    "nbformat_minor": 2,
    "nbformat": 4,
    "cells": [
        {
            "cell_type": "code",
            "source": [
                "CREATE SCHEMA pasinchuk_schema AUTHORIZATION DmytroPasinchuk;\n",
                "GO"
            ],
            "metadata": {
                "azdata_cell_guid": "268842b8-3599-42b3-810b-c28af1dc5b90"
            },
            "outputs": [
                {
                    "output_type": "error",
                    "evalue": "Query failed: The connection does not support MultipleActiveResultSets.",
                    "ename": "",
                    "traceback": []
                },
                {
                    "output_type": "display_data",
                    "data": {
                        "text/html": "Total execution time: 00:00:00"
                    },
                    "metadata": {}
                }
            ],
            "execution_count": 17
        },
        {
            "cell_type": "code",
            "source": [
                "GRANT CONTROL ON DATABASE::[sqldwschool] to DmytroPasinchuk;"
            ],
            "metadata": {
                "azdata_cell_guid": "ceba4552-66f6-400a-a22b-0c5da6763510"
            },
            "outputs": [
                {
                    "output_type": "display_data",
                    "data": {
                        "text/html": "Commands completed successfully."
                    },
                    "metadata": {}
                },
                {
                    "output_type": "display_data",
                    "data": {
                        "text/html": "Total execution time: 00:00:00.127"
                    },
                    "metadata": {}
                }
            ],
            "execution_count": 9
        },
        {
            "cell_type": "code",
            "source": [
                "EXEC sp_addrolemember 'db_owner', 'DmytroPasinchuk';"
            ],
            "metadata": {
                "azdata_cell_guid": "e01831b8-19f4-4a11-bde1-dc5c574dc156"
            },
            "outputs": [
                {
                    "output_type": "error",
                    "evalue": "Query failed: The connection does not support MultipleActiveResultSets.",
                    "ename": "",
                    "traceback": []
                },
                {
                    "output_type": "display_data",
                    "data": {
                        "text/html": "Total execution time: 00:00:00"
                    },
                    "metadata": {}
                }
            ],
            "execution_count": 18
        }
    ]
}