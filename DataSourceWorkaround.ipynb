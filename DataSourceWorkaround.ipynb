{
    "metadata": {
        "kernelspec": {
            "name": "SQL",
            "display_name": "SQL",
            "language": "sql"
        },
        "language_info": {
            "name": "sql",
            "version": ""
        }
    },
    "nbformat_minor": 2,
    "nbformat": 4,
    "cells": [
        {
            "cell_type": "code",
            "source": [
                "CREATE DATABASE SCOPED CREDENTIAL PasinchukStorageCredential\n",
                "WITH\n",
                "    IDENTITY = 'bigdataschool001',\n",
                "    SECRET = '';"
            ],
            "metadata": {
                "azdata_cell_guid": "4ba0e5d2-2c81-408d-8c17-ac24ddc96c0d"
            },
            "outputs": [
                {
                    "output_type": "error",
                    "ename": "",
                    "evalue": "Msg 15530, Level 16, State 1, Line 1\nThe credential with name \"PasinchukStorageCredential\" already exists.",
                    "traceback": []
                },
                {
                    "output_type": "display_data",
                    "data": {
                        "text/html": "Total execution time: 00:00:00.101"
                    },
                    "metadata": {}
                }
            ],
            "execution_count": 1
        },
        {
            "cell_type": "code",
            "source": [
                "CREATE EXTERNAL DATA SOURCE PassinchukTripDataSource\n",
                "WITH\n",
                "(\n",
                "    LOCATION = 'wasbs://pasinchukdata@bigdataschool001.blob.core.windows.net/',\n",
                "    CREDENTIAL = PasinchukStorageCredential,\n",
                "    TYPE = HADOOP\n",
                ");"
            ],
            "metadata": {
                "azdata_cell_guid": "fbac433d-e02e-4e0a-ad68-483814858788"
            },
            "outputs": [
                {
                    "output_type": "error",
                    "ename": "",
                    "evalue": "Msg 46502, Level 16, State 1, Line 1\nType with name 'PassinchukTripDataSource' already exists.",
                    "traceback": []
                },
                {
                    "output_type": "display_data",
                    "data": {
                        "text/html": "Total execution time: 00:00:00.068"
                    },
                    "metadata": {}
                }
            ],
            "execution_count": 2
        },
        {
            "cell_type": "code",
            "source": [
                "CREATE EXTERNAL FILE FORMAT TripDataFormat\n",
                "WITH\n",
                "(\n",
                "    FORMAT_TYPE = DELIMITEDTEXT,\n",
                "    FORMAT_OPTIONS\n",
                "    (\n",
                "        FIELD_TERMINATOR = ',',\n",
                "        First_Row = 2,\n",
                "        USE_TYPE_DEFAULT = FALSE\n",
                "    )\n",
                ");"
            ],
            "metadata": {
                "azdata_cell_guid": "b64b3e6e-3d07-4eea-b486-3d5f51afd988"
            },
            "outputs": [
                {
                    "output_type": "display_data",
                    "data": {
                        "text/html": "Commands completed successfully."
                    },
                    "metadata": {}
                },
                {
                    "output_type": "display_data",
                    "data": {
                        "text/html": "Total execution time: 00:00:00.077"
                    },
                    "metadata": {}
                }
            ],
            "execution_count": 15
        },
        {
            "cell_type": "markdown",
            "source": [
                " TODO: implement data parsing"
            ],
            "metadata": {
                "azdata_cell_guid": "af50ddfa-a741-484c-bac9-c99568559df5"
            }
        },
        {
            "cell_type": "code",
            "source": [
                "CREATE EXTERNAL TABLE [pasinchuk_schema].[tripdata_ext](\n",
                "    [VendorID]               [int]       NULL,\n",
                "    [tpep_pickup_datetime]   [datetime]  NULL,\n",
                "    [tpep_dropoff_datetime]  [datetime]  NULL,\n",
                "    [passenger_count]        [int]       NULL,\n",
                "    [trip_distance]          [real]      NULL,\n",
                "    [RateCodeID]             [int]       NULL,\n",
                "    [store_and_fwd_flag]     [char](1)   NULL,\n",
                "    [PULocationID]           [int]       NULL,\n",
                "    [DOLocationID]           [int]       NULL,\n",
                "    [payment_type]           [int]       NULL,\n",
                "    [fare_amount]            [real]      NULL,\n",
                "    [extra]                  [real]      NULL,\n",
                "    [mta_tax]                [real]      NULL,\n",
                "    [tip_amount]             [real]      NULL,\n",
                "    [tolls_amount]           [real]      NULL,\n",
                "    [improvement_surcharge]  [real]      NULL,\n",
                "    [total_amount]           [real]      NULL,\n",
                "    [congestion_surcharge]   [real]      NULL\n",
                ")\n",
                "WITH (LOCATION='yellow_tripdata_2020-01.csv',\n",
                "    DATA_SOURCE = PassinchukTripDataSource,  \n",
                "    FILE_FORMAT = TripDataFormat,\n",
                "    REJECT_TYPE = VALUE,\n",
                "    REJECT_VALUE = 0\n",
                ");  "
            ],
            "metadata": {
                "azdata_cell_guid": "4491bf37-7333-4554-9107-61c840d772b7",
                "tags": []
            },
            "outputs": [
                {
                    "output_type": "display_data",
                    "data": {
                        "text/html": "Commands completed successfully."
                    },
                    "metadata": {}
                },
                {
                    "output_type": "display_data",
                    "data": {
                        "text/html": "Total execution time: 00:00:00.338"
                    },
                    "metadata": {}
                }
            ],
            "execution_count": 16
        },
        {
            "cell_type": "code",
            "source": [
                "CREATE TABLE pasinchuk_schema.fact_tripdata\n",
                "WITH (CLUSTERED COLUMNSTORE INDEX, DISTRIBUTION=HASH(tpep_dropoff_datetime))\n",
                "AS SELECT * FROM pasinchuk_schema.tripdata_ext\n",
                ""
            ],
            "metadata": {
                "azdata_cell_guid": "750cd756-4b49-41c4-9d9c-1b05619e6153"
            },
            "outputs": [
                {
                    "output_type": "display_data",
                    "data": {
                        "text/html": "Commands completed successfully."
                    },
                    "metadata": {}
                },
                {
                    "output_type": "display_data",
                    "data": {
                        "text/html": "Total execution time: 00:01:16.581"
                    },
                    "metadata": {}
                }
            ],
            "execution_count": 17
        },
        {
            "cell_type": "code",
            "source": [
                "CREATE TABLE pasinchuk_schema.vendor_data (\n",
                "    [VendorID]               [int]           NOT NULL,\n",
                "    [Name]                   [nvarchar](50)  NOT NULL\n",
                ");"
            ],
            "metadata": {
                "azdata_cell_guid": "6d6c43a9-c086-4534-bf6c-695037e19ccb"
            },
            "outputs": [
                {
                    "output_type": "error",
                    "ename": "",
                    "evalue": "Msg 2714, Level 16, State 1, Line 1\nThere is already an object named 'vendor_data' in the database.",
                    "traceback": []
                },
                {
                    "output_type": "display_data",
                    "data": {
                        "text/html": "Total execution time: 00:00:00.105"
                    },
                    "metadata": {}
                }
            ],
            "execution_count": 1
        },
        {
            "cell_type": "code",
            "source": [
                "INSERT INTO pasinchuk_schema.vendor_data ([VendorID] , [Name]) VALUES (1, 'Creative Mobile Technologies');\n",
                "INSERT INTO pasinchuk_schema.vendor_data ([VendorID] , [Name]) VALUES (2, 'VeriFone Inc.');"
            ],
            "metadata": {
                "azdata_cell_guid": "3e072fd6-d15e-4294-ba56-6c5f4d345469"
            },
            "outputs": [
                {
                    "output_type": "display_data",
                    "data": {
                        "text/html": "(1 row affected)"
                    },
                    "metadata": {}
                },
                {
                    "output_type": "display_data",
                    "data": {
                        "text/html": "Total execution time: 00:00:00.121"
                    },
                    "metadata": {}
                }
            ],
            "execution_count": 6
        },
        {
            "cell_type": "code",
            "source": [
                "CREATE TABLE pasinchuk_schema.rate_data (\n",
                "    [RateCodeID]             [int]           NOT NULL,\n",
                "    [Name]                   [nvarchar](50)  NOT NULL\n",
                ");"
            ],
            "metadata": {
                "azdata_cell_guid": "16fa4cca-4f1f-45bd-a119-0b7bed244c5b"
            },
            "outputs": [
                {
                    "output_type": "display_data",
                    "data": {
                        "text/html": "Commands completed successfully."
                    },
                    "metadata": {}
                },
                {
                    "output_type": "display_data",
                    "data": {
                        "text/html": "Total execution time: 00:00:00.830"
                    },
                    "metadata": {}
                }
            ],
            "execution_count": 8
        },
        {
            "cell_type": "code",
            "source": [
                "INSERT INTO pasinchuk_schema.rate_data ([RateCodeID] , [Name]) VALUES (1, 'Standard rate');\n",
                "INSERT INTO pasinchuk_schema.rate_data ([RateCodeID] , [Name]) VALUES (2, 'JFK');\n",
                "INSERT INTO pasinchuk_schema.rate_data ([RateCodeID] , [Name]) VALUES (3, 'Newark');\n",
                "INSERT INTO pasinchuk_schema.rate_data ([RateCodeID] , [Name]) VALUES (4, 'Nassau or Westchester');\n",
                "INSERT INTO pasinchuk_schema.rate_data ([RateCodeID] , [Name]) VALUES (5, 'Negotiated fare');\n",
                "INSERT INTO pasinchuk_schema.rate_data ([RateCodeID] , [Name]) VALUES (6, 'Group ride');"
            ],
            "metadata": {
                "azdata_cell_guid": "9f9c6e11-bbe2-4b3d-92bc-4ef57dcebbe8"
            },
            "outputs": [
                {
                    "output_type": "display_data",
                    "data": {
                        "text/html": "(1 row affected)"
                    },
                    "metadata": {}
                },
                {
                    "output_type": "display_data",
                    "data": {
                        "text/html": "(1 row affected)"
                    },
                    "metadata": {}
                },
                {
                    "output_type": "display_data",
                    "data": {
                        "text/html": "(1 row affected)"
                    },
                    "metadata": {}
                },
                {
                    "output_type": "display_data",
                    "data": {
                        "text/html": "(1 row affected)"
                    },
                    "metadata": {}
                },
                {
                    "output_type": "display_data",
                    "data": {
                        "text/html": "(1 row affected)"
                    },
                    "metadata": {}
                },
                {
                    "output_type": "display_data",
                    "data": {
                        "text/html": "(1 row affected)"
                    },
                    "metadata": {}
                },
                {
                    "output_type": "display_data",
                    "data": {
                        "text/html": "Total execution time: 00:00:00.423"
                    },
                    "metadata": {}
                }
            ],
            "execution_count": 9
        },
        {
            "cell_type": "code",
            "source": [
                "CREATE TABLE pasinchuk_schema.payment_data (\n",
                "    [payment_type]           [int]           NOT NULL,\n",
                "    [Name]                   [nvarchar](50)  NOT NULL\n",
                ");"
            ],
            "metadata": {
                "azdata_cell_guid": "6e4b7785-7654-430a-8128-1fad4bb7c977"
            },
            "outputs": [
                {
                    "output_type": "display_data",
                    "data": {
                        "text/html": "Commands completed successfully."
                    },
                    "metadata": {}
                },
                {
                    "output_type": "display_data",
                    "data": {
                        "text/html": "Total execution time: 00:00:00.643"
                    },
                    "metadata": {}
                }
            ],
            "execution_count": 10
        },
        {
            "cell_type": "code",
            "source": [
                "INSERT INTO pasinchuk_schema.payment_data ([payment_type] , [Name]) VALUES (1, 'Credit card');\n",
                "INSERT INTO pasinchuk_schema.payment_data ([payment_type] , [Name]) VALUES (2, 'Cash');\n",
                "INSERT INTO pasinchuk_schema.payment_data ([payment_type] , [Name]) VALUES (3, 'No charge');\n",
                "INSERT INTO pasinchuk_schema.payment_data ([payment_type] , [Name]) VALUES (4, 'Dispute');\n",
                "INSERT INTO pasinchuk_schema.payment_data ([payment_type] , [Name]) VALUES (5, 'Unknown');\n",
                "INSERT INTO pasinchuk_schema.payment_data ([payment_type] , [Name]) VALUES (6, 'Voided trip');"
            ],
            "metadata": {
                "azdata_cell_guid": "56440f80-53cd-48cf-b1bc-e65c9b3b58b2"
            },
            "outputs": [
                {
                    "output_type": "display_data",
                    "data": {
                        "text/html": "(1 row affected)"
                    },
                    "metadata": {}
                },
                {
                    "output_type": "display_data",
                    "data": {
                        "text/html": "(1 row affected)"
                    },
                    "metadata": {}
                },
                {
                    "output_type": "display_data",
                    "data": {
                        "text/html": "(1 row affected)"
                    },
                    "metadata": {}
                },
                {
                    "output_type": "display_data",
                    "data": {
                        "text/html": "(1 row affected)"
                    },
                    "metadata": {}
                },
                {
                    "output_type": "display_data",
                    "data": {
                        "text/html": "(1 row affected)"
                    },
                    "metadata": {}
                },
                {
                    "output_type": "display_data",
                    "data": {
                        "text/html": "(1 row affected)"
                    },
                    "metadata": {}
                },
                {
                    "output_type": "display_data",
                    "data": {
                        "text/html": "Total execution time: 00:00:00.417"
                    },
                    "metadata": {}
                }
            ],
            "execution_count": 11
        }
    ]
}